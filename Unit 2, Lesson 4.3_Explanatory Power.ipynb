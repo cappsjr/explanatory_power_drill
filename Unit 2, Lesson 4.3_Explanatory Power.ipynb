{
 "cells": [
  {
   "cell_type": "code",
   "execution_count": 48,
   "metadata": {
    "collapsed": true
   },
   "outputs": [],
   "source": [
    "import math\n",
    "import warnings\n",
    "\n",
    "from IPython.display import display\n",
    "from matplotlib import pyplot as plt\n",
    "import numpy as np\n",
    "import pandas as pd\n",
    "import seaborn as sns\n",
    "from sklearn import linear_model\n",
    "import statsmodels.formula.api as smf\n",
    "\n",
    "# display preferences\n",
    "%matplotlib inline\n",
    "pd.options.display.float_format = '{:.3f}'.format\n",
    "\n",
    "# suppress annoying harmless error\n",
    "warnings.filterwarnings(\n",
    "    action = 'ignore',\n",
    "    module = 'scipy',\n",
    "    message = '^internal gelsd')"
   ]
  },
  {
   "cell_type": "code",
   "execution_count": 49,
   "metadata": {},
   "outputs": [
    {
     "data": {
      "text/html": [
       "<div>\n",
       "<style>\n",
       "    .dataframe thead tr:only-child th {\n",
       "        text-align: right;\n",
       "    }\n",
       "\n",
       "    .dataframe thead th {\n",
       "        text-align: left;\n",
       "    }\n",
       "\n",
       "    .dataframe tbody tr th {\n",
       "        vertical-align: top;\n",
       "    }\n",
       "</style>\n",
       "<table border=\"1\" class=\"dataframe\">\n",
       "  <thead>\n",
       "    <tr style=\"text-align: right;\">\n",
       "      <th></th>\n",
       "      <th>TV</th>\n",
       "      <th>Radio</th>\n",
       "      <th>Newspaper</th>\n",
       "      <th>Sales</th>\n",
       "    </tr>\n",
       "  </thead>\n",
       "  <tbody>\n",
       "    <tr>\n",
       "      <th>1</th>\n",
       "      <td>230.100</td>\n",
       "      <td>37.800</td>\n",
       "      <td>69.200</td>\n",
       "      <td>22.100</td>\n",
       "    </tr>\n",
       "    <tr>\n",
       "      <th>2</th>\n",
       "      <td>44.500</td>\n",
       "      <td>39.300</td>\n",
       "      <td>45.100</td>\n",
       "      <td>10.400</td>\n",
       "    </tr>\n",
       "    <tr>\n",
       "      <th>3</th>\n",
       "      <td>17.200</td>\n",
       "      <td>45.900</td>\n",
       "      <td>69.300</td>\n",
       "      <td>9.300</td>\n",
       "    </tr>\n",
       "    <tr>\n",
       "      <th>4</th>\n",
       "      <td>151.500</td>\n",
       "      <td>41.300</td>\n",
       "      <td>58.500</td>\n",
       "      <td>18.500</td>\n",
       "    </tr>\n",
       "    <tr>\n",
       "      <th>5</th>\n",
       "      <td>180.800</td>\n",
       "      <td>10.800</td>\n",
       "      <td>58.400</td>\n",
       "      <td>12.900</td>\n",
       "    </tr>\n",
       "  </tbody>\n",
       "</table>\n",
       "</div>"
      ],
      "text/plain": [
       "       TV  Radio  Newspaper  Sales\n",
       "1 230.100 37.800     69.200 22.100\n",
       "2  44.500 39.300     45.100 10.400\n",
       "3  17.200 45.900     69.300  9.300\n",
       "4 151.500 41.300     58.500 18.500\n",
       "5 180.800 10.800     58.400 12.900"
      ]
     },
     "metadata": {},
     "output_type": "display_data"
    }
   ],
   "source": [
    "# acquire, load, and preview the data\n",
    "data = pd.read_csv('http://www-bcf.usc.edu/~gareth/ISL/Advertising.csv', index_col=0)\n",
    "display(data.head())"
   ]
  },
  {
   "cell_type": "code",
   "execution_count": 50,
   "metadata": {},
   "outputs": [
    {
     "data": {
      "text/plain": [
       "LinearRegression(copy_X=True, fit_intercept=True, n_jobs=1, normalize=False)"
      ]
     },
     "execution_count": 50,
     "metadata": {},
     "output_type": "execute_result"
    }
   ],
   "source": [
    "# instantiate and fit our model\n",
    "regr = linear_model.LinearRegression()\n",
    "y = data['Sales'].values.reshape(-1, 1)\n",
    "x = data[['TV', 'Radio', 'Newspaper']]\n",
    "regr.fit(x, y)"
   ]
  },
  {
   "cell_type": "code",
   "execution_count": 51,
   "metadata": {},
   "outputs": [
    {
     "name": "stdout",
     "output_type": "stream",
     "text": [
      "\n",
      "Coefficients: \n",
      " [[ 0.04576465  0.18853002 -0.00103749]]\n",
      "\n",
      "Intercepts: \n",
      " [ 2.93888937]\n",
      "\n",
      "R-Squared: \n",
      "\n",
      "0.897210638179\n"
     ]
    }
   ],
   "source": [
    "# inspect the results\n",
    "print('\\nCoefficients: \\n', regr.coef_)\n",
    "print('\\nIntercepts: \\n', regr.intercept_)\n",
    "print('\\nR-Squared: \\n')\n",
    "print(regr.score(x, y))"
   ]
  },
  {
   "cell_type": "markdown",
   "metadata": {},
   "source": [
    "The model where the outcome Sales is predicted by the features TV, Radio, and Newspaper explains 89.7% of the variance in Sales. Note that we don't know from these results how much of that variance is explained by each of the three features. Looking at the coefficients, there appears to be a base rate of Sales that happen even with no ads in any medium (intercept: 2.939) and sales have the highest per-unit increase when ads are on the radio (0.189)"
   ]
  },
  {
   "cell_type": "code",
   "execution_count": 52,
   "metadata": {},
   "outputs": [
    {
     "data": {
      "image/png": "[encoded data removed]",
      "text/plain": [
       "<matplotlib.figure.Figure at 0x1125e9240>"
      ]
     },
     "metadata": {},
     "output_type": "display_data"
    },
    {
     "data": {
      "image/png": "[encoded data removed]",
      "text/plain": [
       "<matplotlib.figure.Figure at 0x1127c59e8>"
      ]
     },
     "metadata": {},
     "output_type": "display_data"
    }
   ],
   "source": [
    "# Example of fixing features with a non-linear relationship to the outcome\n",
    "outcome = [1, 2, 3,4, 5, 6, 7, 8, 9, 10, 11, 12]\n",
    "feature = [3, 4, 10, 16, 25, 33, 49, 60, 85, 100, 130, 140]\n",
    "\n",
    "# plot the data as-is.  Looks somewhat quadratic.\n",
    "plt.scatter(outcome, feature)\n",
    "plt.title('Raw Values')\n",
    "plt.show()\n",
    "\n",
    "# create a feature using a non-linear transformation\n",
    "sqrt_feature = [math.sqrt(x) for x in feature]\n",
    "\n",
    "# well now, isn't that nice\n",
    "plt.scatter(outcome, sqrt_feature)\n",
    "plt.title('Transformed Values')\n",
    "plt.show()"
   ]
  },
  {
   "cell_type": "code",
   "execution_count": 53,
   "metadata": {},
   "outputs": [
    {
     "data": {
      "image/png": "[encoded data removed]",
      "text/plain": [
       "<matplotlib.figure.Figure at 0x10ee2e518>"
      ]
     },
     "metadata": {},
     "output_type": "display_data"
    },
    {
     "data": {
      "text/plain": [
       "count   200.000\n",
       "mean     -0.000\n",
       "std       1.673\n",
       "min      -8.828\n",
       "25%      -0.891\n",
       "50%       0.242\n",
       "75%       1.189\n",
       "max       2.829\n",
       "Name: Sales, dtype: float64"
      ]
     },
     "execution_count": 53,
     "metadata": {},
     "output_type": "execute_result"
    }
   ],
   "source": [
    "# example of assumption of multivariate normality in multiple regression\n",
    "\n",
    "#extract predicted values\n",
    "predicted = regr.predict(x).ravel()\n",
    "actual = data['Sales']\n",
    "\n",
    "# calculate the error, also called the residual\n",
    "residual = actual - predicted\n",
    "\n",
    "# this looks a bit concerning\n",
    "plt.hist(residual)\n",
    "plt.title('Residual Counts')\n",
    "plt.xlabel('Residual')\n",
    "plt.ylabel('Count')\n",
    "plt.show()\n",
    "\n",
    "residual.describe()\n",
    "\n",
    "# outliers or skewness in error can often be traced back to outliers or skewness in data"
   ]
  },
  {
   "cell_type": "code",
   "execution_count": 54,
   "metadata": {},
   "outputs": [
    {
     "data": {
      "image/png": "[encoded data removed]",
      "text/plain": [
       "<matplotlib.figure.Figure at 0x112a3efd0>"
      ]
     },
     "metadata": {},
     "output_type": "display_data"
    }
   ],
   "source": [
    "# example showing non-homoscedastic error terms (a violation of Assumption 3)\n",
    "\n",
    "plt.scatter(predicted, residual)\n",
    "plt.xlabel('Predicted')\n",
    "plt.ylabel('Residual')\n",
    "plt.axhline(y=0)\n",
    "plt.title('Residual v. Predicted')\n",
    "plt.show()\n",
    "\n",
    "#hmmmm looks a bit concerning"
   ]
  },
  {
   "cell_type": "code",
   "execution_count": 55,
   "metadata": {},
   "outputs": [
    {
     "data": {
      "text/html": [
       "<div>\n",
       "<style>\n",
       "    .dataframe thead tr:only-child th {\n",
       "        text-align: right;\n",
       "    }\n",
       "\n",
       "    .dataframe thead th {\n",
       "        text-align: left;\n",
       "    }\n",
       "\n",
       "    .dataframe tbody tr th {\n",
       "        vertical-align: top;\n",
       "    }\n",
       "</style>\n",
       "<table border=\"1\" class=\"dataframe\">\n",
       "  <thead>\n",
       "    <tr style=\"text-align: right;\">\n",
       "      <th></th>\n",
       "      <th>TV</th>\n",
       "      <th>Radio</th>\n",
       "      <th>Newspaper</th>\n",
       "    </tr>\n",
       "  </thead>\n",
       "  <tbody>\n",
       "    <tr>\n",
       "      <th>TV</th>\n",
       "      <td>1.000</td>\n",
       "      <td>0.055</td>\n",
       "      <td>0.057</td>\n",
       "    </tr>\n",
       "    <tr>\n",
       "      <th>Radio</th>\n",
       "      <td>0.055</td>\n",
       "      <td>1.000</td>\n",
       "      <td>0.354</td>\n",
       "    </tr>\n",
       "    <tr>\n",
       "      <th>Newspaper</th>\n",
       "      <td>0.057</td>\n",
       "      <td>0.354</td>\n",
       "      <td>1.000</td>\n",
       "    </tr>\n",
       "  </tbody>\n",
       "</table>\n",
       "</div>"
      ],
      "text/plain": [
       "             TV  Radio  Newspaper\n",
       "TV        1.000  0.055      0.057\n",
       "Radio     0.055  1.000      0.354\n",
       "Newspaper 0.057  0.354      1.000"
      ]
     },
     "metadata": {},
     "output_type": "display_data"
    }
   ],
   "source": [
    "# example on assumption #4; low multicollinearity\n",
    "\n",
    "correlation_matrix = x.corr()\n",
    "display(correlation_matrix)"
   ]
  },
  {
   "cell_type": "code",
   "execution_count": 56,
   "metadata": {},
   "outputs": [
    {
     "data": {
      "text/plain": [
       "3     -3.008\n",
       "6     -5.278\n",
       "26    -3.610\n",
       "36    -4.207\n",
       "57    -3.028\n",
       "76    -3.158\n",
       "79    -3.513\n",
       "127   -3.977\n",
       "131   -8.828\n",
       "159   -3.084\n",
       "179   -4.211\n",
       "Name: Residuals, dtype: float64"
      ]
     },
     "execution_count": 56,
     "metadata": {},
     "output_type": "execute_result"
    }
   ],
   "source": [
    "# Need to address non-normality of the residual distribution\n",
    "# look for outliers in the data that might make the data non-normal or skewed\n",
    "\n",
    "data['Residuals'] = residual\n",
    "data['Residuals']\n",
    "\n",
    "data['Residuals'][np.abs(data['Residuals']) > 3]"
   ]
  },
  {
   "cell_type": "code",
   "execution_count": 57,
   "metadata": {},
   "outputs": [
    {
     "data": {
      "image/png": "[encoded data removed]",
      "text/plain": [
       "<matplotlib.figure.Figure at 0x112885898>"
      ]
     },
     "metadata": {},
     "output_type": "display_data"
    },
    {
     "data": {
      "text/plain": [
       "count   189.000\n",
       "mean      0.243\n",
       "std       1.316\n",
       "min      -2.942\n",
       "25%      -0.329\n",
       "50%       0.333\n",
       "75%       1.255\n",
       "max       2.829\n",
       "Name: Sales, dtype: float64"
      ]
     },
     "execution_count": 57,
     "metadata": {},
     "output_type": "execute_result"
    }
   ],
   "source": [
    "# create a new DataFrame that drops all the outliers\n",
    "\n",
    "data_1 = data.drop([3, 6, 26, 36, 57, 76, 79, 127, 131, 159, 179])\n",
    "\n",
    "# check to see if the residuals from the new DataFrame are normally distributed\n",
    "\n",
    "x_1 = data_1[['TV', 'Radio', 'Newspaper']]\n",
    "\n",
    "#extract predicted values\n",
    "predicted_1 = regr.predict(x_1).ravel()\n",
    "actual_1 = data_1['Sales']\n",
    "\n",
    "# calculate the error, also called the residual\n",
    "residual_1 = actual_1 - predicted_1\n",
    "\n",
    "# this looks a bit concerning\n",
    "plt.hist(residual_1)\n",
    "plt.title('Residual Counts')\n",
    "plt.xlabel('Residual')\n",
    "plt.ylabel('Count')\n",
    "plt.show()\n",
    "\n",
    "residual_1.describe()"
   ]
  },
  {
   "cell_type": "code",
   "execution_count": 71,
   "metadata": {},
   "outputs": [
    {
     "name": "stdout",
     "output_type": "stream",
     "text": [
      "2\n"
     ]
    }
   ],
   "source": [
    "# Need to address the hetero-scedasticity in the distribution of the error terms\n",
    "\n",
    "# Lets see if a Box-Cox transformation is sufficient to solve the problem of heteroscedasticity\n",
    "\n",
    "from scipy import stats\n",
    "import itertools\n",
    "\n",
    "yt = stats.boxcox(data_1['Sales'])\n",
    "\n",
    "print(len(yt))\n",
    "\n",
    "# convert array into list\n",
    "\n",
    "var = list(yt)\n",
    "var1 = list(itertools.chain(*var0))"
   ]
  },
  {
   "cell_type": "code",
   "execution_count": 66,
   "metadata": {},
   "outputs": [
    {
     "data": {
      "image/png": "[encoded data removed]",
      "text/plain": [
       "<matplotlib.figure.Figure at 0x11248c208>"
      ]
     },
     "metadata": {},
     "output_type": "display_data"
    },
    {
     "name": "stdout",
     "output_type": "stream",
     "text": [
      "189\n"
     ]
    }
   ],
   "source": [
    "# create a column of the dependent variable after the BoxCox transformation\n",
    "data['yt'] = var1\n",
    "\n",
    "# test to see if the error terms are still heteroscedastic\n",
    "\n",
    "actual_2 = data['yt']\n",
    "residual_2 = actual_2 - predicted\n",
    "\n",
    "plt.scatter(predicted, residual_2)\n",
    "plt.xlabel('Predicted')\n",
    "plt.ylabel('Residual')\n",
    "plt.axhline(y=0)\n",
    "plt.title('Residual v. Predicted')\n",
    "plt.show()"
   ]
  },
  {
   "cell_type": "code",
   "execution_count": null,
   "metadata": {
    "collapsed": true
   },
   "outputs": [],
   "source": []
  }
 ],
 "metadata": {
  "kernelspec": {
   "display_name": "Python 3",
   "language": "python",
   "name": "python3"
  },
  "language_info": {
   "codemirror_mode": {
    "name": "ipython",
    "version": 3
   },
   "file_extension": ".py",
   "mimetype": "text/x-python",
   "name": "python",
   "nbconvert_exporter": "python",
   "pygments_lexer": "ipython3",
   "version": "3.6.1"
  }
 },
 "nbformat": 4,
 "nbformat_minor": 2
}
